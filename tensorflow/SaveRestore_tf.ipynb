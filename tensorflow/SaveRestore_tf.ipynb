{
 "cells": [
  {
   "cell_type": "code",
   "execution_count": 18,
   "metadata": {},
   "outputs": [],
   "source": [
    "# https://github.com/ageron/handson-ml/blob/master/tensorflow_graph_in_jupyter.py\n",
    "\n",
    "from __future__ import absolute_import, division, print_function, unicode_literals\n",
    "\n",
    "# This module defines the show_graph() function to visualize a TensorFlow graph within Jupyter.\n",
    "\n",
    "# As far as I can tell, this code was originally written by Alex Mordvintsev at:\n",
    "# https://github.com/tensorflow/tensorflow/blob/master/tensorflow/examples/tutorials/deepdream/deepdream.ipynb\n",
    "\n",
    "# The original code only worked on Chrome (because of the use of <link rel=\"import\"...>, but the version below\n",
    "# uses Polyfill (copied from this StackOverflow answer: https://stackoverflow.com/a/41463991/38626)\n",
    "# so that it can work on other browsers as well.\n",
    "\n",
    "import numpy as np\n",
    "import tensorflow as tf\n",
    "from IPython.display import clear_output, Image, display, HTML\n",
    "\n",
    "def strip_consts(graph_def, max_const_size=32):\n",
    "    \"\"\"Strip large constant values from graph_def.\"\"\"\n",
    "    strip_def = tf.GraphDef()\n",
    "    for n0 in graph_def.node:\n",
    "        n = strip_def.node.add() \n",
    "        n.MergeFrom(n0)\n",
    "        if n.op == 'Const':\n",
    "            tensor = n.attr['value'].tensor\n",
    "            size = len(tensor.tensor_content)\n",
    "            if size > max_const_size:\n",
    "                tensor.tensor_content = b\"<stripped %d bytes>\"%size\n",
    "    return strip_def\n",
    "\n",
    "def show_graph(graph_def, max_const_size=32):\n",
    "    \"\"\"Visualize TensorFlow graph.\"\"\"\n",
    "    if hasattr(graph_def, 'as_graph_def'):\n",
    "        graph_def = graph_def.as_graph_def()\n",
    "    strip_def = strip_consts(graph_def, max_const_size=max_const_size)\n",
    "    code = \"\"\"\n",
    "        <script src=\"//cdnjs.cloudflare.com/ajax/libs/polymer/0.3.3/platform.js\"></script>\n",
    "        <script>\n",
    "          function load() {{\n",
    "            document.getElementById(\"{id}\").pbtxt = {data};\n",
    "          }}\n",
    "        </script>\n",
    "        <link rel=\"import\" href=\"https://tensorboard.appspot.com/tf-graph-basic.build.html\" onload=load()>\n",
    "        <div style=\"height:600px\">\n",
    "          <tf-graph-basic id=\"{id}\"></tf-graph-basic>\n",
    "        </div>\n",
    "    \"\"\".format(data=repr(str(strip_def)), id='graph'+str(np.random.rand()))\n",
    "\n",
    "    iframe = \"\"\"\n",
    "        <iframe seamless style=\"width:1200px;height:620px;border:0\" srcdoc=\"{}\"></iframe>\n",
    "    \"\"\".format(code.replace('\"', '&quot;'))\n",
    "    display(HTML(iframe))"
   ]
  },
  {
   "cell_type": "markdown",
   "metadata": {},
   "source": [
    "## 1. save variable"
   ]
  },
  {
   "cell_type": "markdown",
   "metadata": {},
   "source": [
    "- https://www.tensorflow.org/guide/saved_model\n",
    "- https://www.tensorflow.org/api_docs/python/tf/train/Saver#save"
   ]
  },
  {
   "cell_type": "code",
   "execution_count": 19,
   "metadata": {},
   "outputs": [],
   "source": [
    "import tensorflow as tf\n",
    "\n",
    "tf.reset_default_graph()\n",
    "# Create some variables.\n",
    "v1 = tf.get_variable(\"v1\", [3], initializer=tf.ones_initializer)\n",
    "v2 = tf.get_variable(\"v2\", [5], initializer=tf.ones_initializer)\n",
    "\n",
    "init_op = tf.variables_initializer([v1, v2])"
   ]
  },
  {
   "cell_type": "code",
   "execution_count": 20,
   "metadata": {},
   "outputs": [
    {
     "data": {
      "text/plain": [
       "<tf.Variable 'v1:0' shape=(3,) dtype=float32_ref>"
      ]
     },
     "execution_count": 20,
     "metadata": {},
     "output_type": "execute_result"
    }
   ],
   "source": [
    "v1"
   ]
  },
  {
   "cell_type": "code",
   "execution_count": 21,
   "metadata": {},
   "outputs": [
    {
     "data": {
      "text/plain": [
       "tensorflow.python.ops.variables.Variable"
      ]
     },
     "execution_count": 21,
     "metadata": {},
     "output_type": "execute_result"
    }
   ],
   "source": [
    "type(v1)"
   ]
  },
  {
   "cell_type": "code",
   "execution_count": 22,
   "metadata": {},
   "outputs": [
    {
     "data": {
      "text/plain": [
       "('v1:0', 'v1')"
      ]
     },
     "execution_count": 22,
     "metadata": {},
     "output_type": "execute_result"
    }
   ],
   "source": [
    "v1.name, v1.op.name"
   ]
  },
  {
   "cell_type": "markdown",
   "metadata": {},
   "source": [
    "By default, Saver uses the value of the ~~`tf.Variable.name`~~ `tf.Variable.op.name` property for each variable.  \n",
    "1. pass them as a list.\n",
    "```python\n",
    "saver = tf.train.Saver([v1, v2])\n",
    "```\n",
    "2. Passing a list is equivalent to passing a dict with the variable **op names**\n",
    "as keys:\n",
    "```python\n",
    "saver = tf.train.Saver({v.op.name: v for v in [v1, v2]})\n",
    "```"
   ]
  },
  {
   "cell_type": "markdown",
   "metadata": {},
   "source": [
    "3. However, when you create a Saver object,   \n",
    "you may optionally choose names for the variables in the checkpoint files."
   ]
  },
  {
   "cell_type": "code",
   "execution_count": 23,
   "metadata": {},
   "outputs": [],
   "source": [
    "# Pass the variables as a dict:\n",
    "saver = tf.train.Saver({'v1': v1, 'v2': v2})"
   ]
  },
  {
   "cell_type": "code",
   "execution_count": 24,
   "metadata": {},
   "outputs": [
    {
     "name": "stdout",
     "output_type": "stream",
     "text": [
      "v1 : [1. 1. 1.]\n",
      "v2 : [1. 1. 1. 1. 1.]\n"
     ]
    }
   ],
   "source": [
    "# Use the saver object normally after that.\n",
    "with tf.Session() as sess:\n",
    "    # Initialize v1 and v2\n",
    "    init_op.run()\n",
    "    saver.save(sess, \"tmp/model.ckpt\")\n",
    "    print(\"v1 : %s\" % v1.eval())\n",
    "    print(\"v2 : %s\" % v2.eval())"
   ]
  },
  {
   "cell_type": "markdown",
   "metadata": {},
   "source": [
    "## 2. restore variable"
   ]
  },
  {
   "cell_type": "code",
   "execution_count": 25,
   "metadata": {},
   "outputs": [
    {
     "name": "stdout",
     "output_type": "stream",
     "text": [
      "INFO:tensorflow:Restoring parameters from tmp/model.ckpt\n",
      "v1 : [1. 1. 1.]\n",
      "v2 : [1. 1. 1. 1. 1.]\n",
      "v2 : [0. 0. 0. 0. 0. 0. 0.]\n"
     ]
    }
   ],
   "source": [
    "tf.reset_default_graph()\n",
    "# Create some variables.\n",
    "v1 = tf.get_variable(\"v1\", [3], initializer=tf.zeros_initializer)\n",
    "v2 = tf.get_variable(\"v2\", [5], initializer=tf.zeros_initializer)\n",
    "v3 = tf.get_variable(\"v3\", [7], initializer=tf.zeros_initializer)\n",
    "\n",
    "# Add ops to save and restore only `v1` and `v2` using the name \"v1\", \"v2\"\n",
    "saver = tf.train.Saver({'v1': v1, 'v2': v2})\n",
    "\n",
    "# Use the saver object normally after that.\n",
    "with tf.Session() as sess:\n",
    "    # If you only restore a subset of the model variables at the start of a session,\n",
    "    # you have to run an initialize op for the other variables.\n",
    "    # See tf.variables_initializer for more information.\n",
    "\n",
    "    # Initialize v3 since the saver will not.\n",
    "    v3.initializer.run()\n",
    "    saver.restore(sess, \"tmp/model.ckpt\")\n",
    "\n",
    "    print(\"v1 : %s\" % v1.eval())\n",
    "    print(\"v2 : %s\" % v2.eval())\n",
    "    print(\"v2 : %s\" % v3.eval())\n"
   ]
  },
  {
   "cell_type": "markdown",
   "metadata": {},
   "source": [
    "## 3. Inspect variables in a checkpoint  \n",
    "We can quickly inspect variables in a checkpoint with the `inspect_checkpoint` library."
   ]
  },
  {
   "cell_type": "code",
   "execution_count": 26,
   "metadata": {},
   "outputs": [],
   "source": [
    "# import the inspect_checkpoint library\n",
    "from tensorflow.python.tools import inspect_checkpoint as chkp"
   ]
  },
  {
   "cell_type": "markdown",
   "metadata": {},
   "source": [
    "- print all tensors in checkpoint file"
   ]
  },
  {
   "cell_type": "code",
   "execution_count": 27,
   "metadata": {},
   "outputs": [
    {
     "name": "stdout",
     "output_type": "stream",
     "text": [
      "tensor_name:  v1\n",
      "[1. 1. 1.]\n",
      "tensor_name:  v2\n",
      "[1. 1. 1. 1. 1.]\n"
     ]
    }
   ],
   "source": [
    "chkp.print_tensors_in_checkpoint_file(\"tmp/model.ckpt\", tensor_name='', all_tensors=True)"
   ]
  },
  {
   "cell_type": "markdown",
   "metadata": {},
   "source": [
    "- print only tensor v1 in checkpoint file"
   ]
  },
  {
   "cell_type": "code",
   "execution_count": 28,
   "metadata": {},
   "outputs": [
    {
     "name": "stdout",
     "output_type": "stream",
     "text": [
      "tensor_name:  v1\n",
      "[1. 1. 1.]\n"
     ]
    }
   ],
   "source": [
    "chkp.print_tensors_in_checkpoint_file(\"tmp/model.ckpt\", tensor_name='v1', all_tensors=False)"
   ]
  },
  {
   "cell_type": "markdown",
   "metadata": {},
   "source": [
    "- print only tensor v2 in checkpoint file"
   ]
  },
  {
   "cell_type": "code",
   "execution_count": 29,
   "metadata": {},
   "outputs": [
    {
     "name": "stdout",
     "output_type": "stream",
     "text": [
      "tensor_name:  v2\n",
      "[1. 1. 1. 1. 1.]\n"
     ]
    }
   ],
   "source": [
    "chkp.print_tensors_in_checkpoint_file(\"tmp/model.ckpt\", tensor_name='v2', all_tensors=False)"
   ]
  },
  {
   "cell_type": "markdown",
   "metadata": {},
   "source": [
    "## 4. [How to understand the term `tensor` in TensorFlow?](https://stackoverflow.com/a/37870634/8037585)\n",
    "\n",
    "1. TensorFlow doesn't have first-class Tensor objects, meaning that there are no notion of `Tensor` in the underlying graph that's executed by the runtime.  \n",
    "2. Instead the graph consists of **op nodes** connected to each other, representing operations. **An operation allocates memory for its outputs, which are available on endpoints `:0`, `:1`, etc, and you can think of each of these endpoints as a `Tensor`.**  \n",
    "3. *If you have `tensor` corresponding to `nodename:0` you can fetch its value as `sess.run(tensor)` or `sess.run('nodename:0')`.*  \n",
    "4. Execution granularity happens at operation level, so the `run` method will execute op which will compute all of the endpoints, not just the `:0` endpoint.  \n",
    "5. It's possible to have an Op node with no outputs (like `tf.group`) in which case there are no tensors associated with it. It is not possible to have tensors without an underlying Op node.\n",
    "\n",
    "You can examine what happens in underlying graph by doing something like this"
   ]
  },
  {
   "cell_type": "code",
   "execution_count": 30,
   "metadata": {},
   "outputs": [
    {
     "name": "stdout",
     "output_type": "stream",
     "text": [
      "Tensor(\"Const:0\", shape=(), dtype=int32) \n",
      "\n",
      "node {\n",
      "  name: \"Const\"\n",
      "  op: \"Const\"\n",
      "  attr {\n",
      "    key: \"dtype\"\n",
      "    value {\n",
      "      type: DT_INT32\n",
      "    }\n",
      "  }\n",
      "  attr {\n",
      "    key: \"value\"\n",
      "    value {\n",
      "      tensor {\n",
      "        dtype: DT_INT32\n",
      "        tensor_shape {\n",
      "        }\n",
      "        int_val: 1\n",
      "      }\n",
      "    }\n",
      "  }\n",
      "}\n",
      "versions {\n",
      "  producer: 26\n",
      "}\n",
      "\n"
     ]
    }
   ],
   "source": [
    "tf.reset_default_graph()\n",
    "value = tf.constant(1)\n",
    "print(value, '\\n')\n",
    "print(tf.get_default_graph().as_graph_def())"
   ]
  },
  {
   "cell_type": "code",
   "execution_count": 32,
   "metadata": {},
   "outputs": [
    {
     "data": {
      "text/plain": [
       "[name: \"Const\"\n",
       "op: \"Const\"\n",
       "attr {\n",
       "  key: \"dtype\"\n",
       "  value {\n",
       "    type: DT_INT32\n",
       "  }\n",
       "}\n",
       "attr {\n",
       "  key: \"value\"\n",
       "  value {\n",
       "    tensor {\n",
       "      dtype: DT_INT32\n",
       "      tensor_shape {\n",
       "      }\n",
       "      int_val: 1\n",
       "    }\n",
       "  }\n",
       "}\n",
       "]"
      ]
     },
     "execution_count": 32,
     "metadata": {},
     "output_type": "execute_result"
    }
   ],
   "source": [
    "tf.get_default_graph().as_graph_def().node"
   ]
  },
  {
   "cell_type": "code",
   "execution_count": 14,
   "metadata": {},
   "outputs": [
    {
     "name": "stdout",
     "output_type": "stream",
     "text": [
      "1\n",
      "1\n",
      "None\n"
     ]
    }
   ],
   "source": [
    "with tf.Session() as sess:\n",
    "    print(sess.run(\"Const:0\"))\n",
    "    print(sess.run(value))\n",
    "    print(sess.run('Const')) # `Const` is op"
   ]
  },
  {
   "cell_type": "markdown",
   "metadata": {},
   "source": [
    "So with `tf.constant` you get a single operation node, and you can fetch it using `sess.run(\"Const:0\")` or `sess.run(value)`\n",
    "\n",
    "Similarly, `value=tf.placeholder(tf.int32)` creates a regular node with name `Placeholder`, and you could feed it as `feed_dict={\"Placeholder:0\":2}` or `feed_dict={value:2}`. You can not feed and fetch a placeholder in the same `session.run` call, but you can see the result by attaching a `tf.identity` node on top and fetching that."
   ]
  },
  {
   "cell_type": "markdown",
   "metadata": {},
   "source": [
    "6. For variable"
   ]
  },
  {
   "cell_type": "code",
   "execution_count": 33,
   "metadata": {
    "scrolled": false
   },
   "outputs": [
    {
     "name": "stdout",
     "output_type": "stream",
     "text": [
      "<tf.Variable 'Variable:0' shape=() dtype=float32_ref> \n",
      "\n",
      "node {\n",
      "  name: \"ones\"\n",
      "  op: \"Const\"\n",
      "  attr {\n",
      "    key: \"dtype\"\n",
      "    value {\n",
      "      type: DT_FLOAT\n",
      "    }\n",
      "  }\n",
      "  attr {\n",
      "    key: \"value\"\n",
      "    value {\n",
      "      tensor {\n",
      "        dtype: DT_FLOAT\n",
      "        tensor_shape {\n",
      "        }\n",
      "        float_val: 1.0\n",
      "      }\n",
      "    }\n",
      "  }\n",
      "}\n",
      "node {\n",
      "  name: \"Variable\"\n",
      "  op: \"VariableV2\"\n",
      "  attr {\n",
      "    key: \"container\"\n",
      "    value {\n",
      "      s: \"\"\n",
      "    }\n",
      "  }\n",
      "  attr {\n",
      "    key: \"dtype\"\n",
      "    value {\n",
      "      type: DT_FLOAT\n",
      "    }\n",
      "  }\n",
      "  attr {\n",
      "    key: \"shape\"\n",
      "    value {\n",
      "      shape {\n",
      "      }\n",
      "    }\n",
      "  }\n",
      "  attr {\n",
      "    key: \"shared_name\"\n",
      "    value {\n",
      "      s: \"\"\n",
      "    }\n",
      "  }\n",
      "}\n",
      "node {\n",
      "  name: \"Variable/Assign\"\n",
      "  op: \"Assign\"\n",
      "  input: \"Variable\"\n",
      "  input: \"ones\"\n",
      "  attr {\n",
      "    key: \"T\"\n",
      "    value {\n",
      "      type: DT_FLOAT\n",
      "    }\n",
      "  }\n",
      "  attr {\n",
      "    key: \"_class\"\n",
      "    value {\n",
      "      list {\n",
      "        s: \"loc:@Variable\"\n",
      "      }\n",
      "    }\n",
      "  }\n",
      "  attr {\n",
      "    key: \"use_locking\"\n",
      "    value {\n",
      "      b: true\n",
      "    }\n",
      "  }\n",
      "  attr {\n",
      "    key: \"validate_shape\"\n",
      "    value {\n",
      "      b: true\n",
      "    }\n",
      "  }\n",
      "}\n",
      "node {\n",
      "  name: \"Variable/read\"\n",
      "  op: \"Identity\"\n",
      "  input: \"Variable\"\n",
      "  attr {\n",
      "    key: \"T\"\n",
      "    value {\n",
      "      type: DT_FLOAT\n",
      "    }\n",
      "  }\n",
      "  attr {\n",
      "    key: \"_class\"\n",
      "    value {\n",
      "      list {\n",
      "        s: \"loc:@Variable\"\n",
      "      }\n",
      "    }\n",
      "  }\n",
      "}\n",
      "versions {\n",
      "  producer: 26\n",
      "}\n",
      "\n"
     ]
    }
   ],
   "source": [
    "tf.reset_default_graph()\n",
    "value = tf.Variable(tf.ones_initializer()(()))\n",
    "print(value,'\\n')\n",
    "print(tf.get_default_graph().as_graph_def())"
   ]
  },
  {
   "cell_type": "code",
   "execution_count": 34,
   "metadata": {},
   "outputs": [
    {
     "data": {
      "text/plain": [
       "[name: \"ones\"\n",
       "op: \"Const\"\n",
       "attr {\n",
       "  key: \"dtype\"\n",
       "  value {\n",
       "    type: DT_FLOAT\n",
       "  }\n",
       "}\n",
       "attr {\n",
       "  key: \"value\"\n",
       "  value {\n",
       "    tensor {\n",
       "      dtype: DT_FLOAT\n",
       "      tensor_shape {\n",
       "      }\n",
       "      float_val: 1.0\n",
       "    }\n",
       "  }\n",
       "}\n",
       ", name: \"Variable\"\n",
       "op: \"VariableV2\"\n",
       "attr {\n",
       "  key: \"container\"\n",
       "  value {\n",
       "    s: \"\"\n",
       "  }\n",
       "}\n",
       "attr {\n",
       "  key: \"dtype\"\n",
       "  value {\n",
       "    type: DT_FLOAT\n",
       "  }\n",
       "}\n",
       "attr {\n",
       "  key: \"shape\"\n",
       "  value {\n",
       "    shape {\n",
       "    }\n",
       "  }\n",
       "}\n",
       "attr {\n",
       "  key: \"shared_name\"\n",
       "  value {\n",
       "    s: \"\"\n",
       "  }\n",
       "}\n",
       ", name: \"Variable/Assign\"\n",
       "op: \"Assign\"\n",
       "input: \"Variable\"\n",
       "input: \"ones\"\n",
       "attr {\n",
       "  key: \"T\"\n",
       "  value {\n",
       "    type: DT_FLOAT\n",
       "  }\n",
       "}\n",
       "attr {\n",
       "  key: \"_class\"\n",
       "  value {\n",
       "    list {\n",
       "      s: \"loc:@Variable\"\n",
       "    }\n",
       "  }\n",
       "}\n",
       "attr {\n",
       "  key: \"use_locking\"\n",
       "  value {\n",
       "    b: true\n",
       "  }\n",
       "}\n",
       "attr {\n",
       "  key: \"validate_shape\"\n",
       "  value {\n",
       "    b: true\n",
       "  }\n",
       "}\n",
       ", name: \"Variable/read\"\n",
       "op: \"Identity\"\n",
       "input: \"Variable\"\n",
       "attr {\n",
       "  key: \"T\"\n",
       "  value {\n",
       "    type: DT_FLOAT\n",
       "  }\n",
       "}\n",
       "attr {\n",
       "  key: \"_class\"\n",
       "  value {\n",
       "    list {\n",
       "      s: \"loc:@Variable\"\n",
       "    }\n",
       "  }\n",
       "}\n",
       "]"
      ]
     },
     "execution_count": 34,
     "metadata": {},
     "output_type": "execute_result"
    }
   ],
   "source": [
    "tf.get_default_graph().as_graph_def().node"
   ]
  },
  {
   "cell_type": "code",
   "execution_count": 16,
   "metadata": {},
   "outputs": [
    {
     "data": {
      "text/html": [
       "\n",
       "        <iframe seamless style=\"width:1200px;height:620px;border:0\" srcdoc=\"\n",
       "        <script src=&quot;//cdnjs.cloudflare.com/ajax/libs/polymer/0.3.3/platform.js&quot;></script>\n",
       "        <script>\n",
       "          function load() {\n",
       "            document.getElementById(&quot;graph0.7279986593558019&quot;).pbtxt = 'node {\\n  name: &quot;ones&quot;\\n  op: &quot;Const&quot;\\n  attr {\\n    key: &quot;dtype&quot;\\n    value {\\n      type: DT_FLOAT\\n    }\\n  }\\n  attr {\\n    key: &quot;value&quot;\\n    value {\\n      tensor {\\n        dtype: DT_FLOAT\\n        tensor_shape {\\n        }\\n        float_val: 1.0\\n      }\\n    }\\n  }\\n}\\nnode {\\n  name: &quot;Variable&quot;\\n  op: &quot;VariableV2&quot;\\n  attr {\\n    key: &quot;container&quot;\\n    value {\\n      s: &quot;&quot;\\n    }\\n  }\\n  attr {\\n    key: &quot;dtype&quot;\\n    value {\\n      type: DT_FLOAT\\n    }\\n  }\\n  attr {\\n    key: &quot;shape&quot;\\n    value {\\n      shape {\\n      }\\n    }\\n  }\\n  attr {\\n    key: &quot;shared_name&quot;\\n    value {\\n      s: &quot;&quot;\\n    }\\n  }\\n}\\nnode {\\n  name: &quot;Variable/Assign&quot;\\n  op: &quot;Assign&quot;\\n  input: &quot;Variable&quot;\\n  input: &quot;ones&quot;\\n  attr {\\n    key: &quot;T&quot;\\n    value {\\n      type: DT_FLOAT\\n    }\\n  }\\n  attr {\\n    key: &quot;_class&quot;\\n    value {\\n      list {\\n        s: &quot;loc:@Variable&quot;\\n      }\\n    }\\n  }\\n  attr {\\n    key: &quot;use_locking&quot;\\n    value {\\n      b: true\\n    }\\n  }\\n  attr {\\n    key: &quot;validate_shape&quot;\\n    value {\\n      b: true\\n    }\\n  }\\n}\\nnode {\\n  name: &quot;Variable/read&quot;\\n  op: &quot;Identity&quot;\\n  input: &quot;Variable&quot;\\n  attr {\\n    key: &quot;T&quot;\\n    value {\\n      type: DT_FLOAT\\n    }\\n  }\\n  attr {\\n    key: &quot;_class&quot;\\n    value {\\n      list {\\n        s: &quot;loc:@Variable&quot;\\n      }\\n    }\\n  }\\n}\\n';\n",
       "          }\n",
       "        </script>\n",
       "        <link rel=&quot;import&quot; href=&quot;https://tensorboard.appspot.com/tf-graph-basic.build.html&quot; onload=load()>\n",
       "        <div style=&quot;height:600px&quot;>\n",
       "          <tf-graph-basic id=&quot;graph0.7279986593558019&quot;></tf-graph-basic>\n",
       "        </div>\n",
       "    \"></iframe>\n",
       "    "
      ],
      "text/plain": [
       "<IPython.core.display.HTML object>"
      ]
     },
     "metadata": {},
     "output_type": "display_data"
    }
   ],
   "source": [
    "show_graph(tf.get_default_graph())"
   ]
  },
  {
   "cell_type": "code",
   "execution_count": 17,
   "metadata": {},
   "outputs": [
    {
     "name": "stdout",
     "output_type": "stream",
     "text": [
      "1.0\n",
      "1.0\n",
      "1.0\n",
      "None\n"
     ]
    }
   ],
   "source": [
    "with tf.Session() as sess:\n",
    "    sess.run(tf.global_variables_initializer())\n",
    "    print(sess.run('Variable/read:0'))\n",
    "    print(sess.run('Variable:0'))\n",
    "    print(sess.run(value))\n",
    "    print(sess.run('Variable')) # `Variable` is op"
   ]
  },
  {
   "cell_type": "markdown",
   "metadata": {},
   "source": [
    "You'll see that it creates two nodes `Variable` and `Variable/read`, the `:0` endpoint is a valid value to fetch on both of these nodes.  \n",
    "**However `Variable:0` has a special `ref` type meaning it can be used as an input to mutating operations.** The result of Python call `tf.Variable` is a Python `Variable` object and there's some Python magic to substitute `Variable/read:0` or `Variable:0` depending on whether mutation is necessary. Since most ops have only 1 endpoint, `:0` is dropped. Another example is `Queue` -- `close()` method will create a new `Close` op node which connects to `Queue` op. To summarize -- operations on python objects like `Variable` and `Queue` map to different underlying TensorFlow op nodes depending on usage. \n",
    "\n",
    "For ops like `tf.split` or `tf.nn.top_k` which create nodes with multiple endpoints, Python's `session.run` call automatically wraps output in `tuple` or `collections.namedtuple` of `Tensor` objects which can be fetched individually."
   ]
  },
  {
   "cell_type": "markdown",
   "metadata": {},
   "source": [
    "## 4. Session\n",
    "```python\n",
    "run(\n",
    "    fetches,\n",
    "    feed_dict=None,\n",
    "    options=None,\n",
    "    run_metadata=None\n",
    ")\n",
    "```\n",
    "The `fetches` argument may be a single graph element, or an arbitrarily nested list, tuple, namedtuple, dict, or OrderedDict containing graph elements at its leaves. A graph element can be one of the following types:\n",
    "\n",
    "- An `tf.Operation`. The corresponding fetched value will be None.\n",
    "- A `tf.Tensor`. The corresponding fetched value will be a numpy ndarray containing the value of that tensor.\n",
    "- A `tf.SparseTensor`. The corresponding fetched value will be a tf.SparseTensorValue containing the value of that sparse tensor.\n",
    "- A `get_tensor_handle` op. The corresponding fetched value will be a numpy ndarray containing the handle of that tensor.\n",
    "- **A `string` which is the name of a tensor or operation in the graph.**"
   ]
  },
  {
   "cell_type": "markdown",
   "metadata": {},
   "source": [
    "## 5. `get_tensor_by_name` & `get_operation_by_name`  \n",
    "[How to get a tensorflow op by name?\n",
    "](https://stackoverflow.com/a/42686191/8037585)  \n",
    "[Tensorflow: How to get a tensor by name?\n",
    "](https://stackoverflow.com/a/36784246/8037585)  \n",
    "[How does TensorFlow name tensors?\n",
    "](https://stackoverflow.com/a/36156697/8037585)  \n",
    "[Tensorflow: difference get_tensor_by_name vs get_operation_by_name?\n",
    "](https://stackoverflow.com/a/48024008/8037585)  \n",
    "[Tensorflow: How to get a tensor by name?\n",
    "](https://stackoverflow.com/a/36613748/8037585)"
   ]
  },
  {
   "cell_type": "code",
   "execution_count": 56,
   "metadata": {},
   "outputs": [
    {
     "name": "stdout",
     "output_type": "stream",
     "text": [
      "<tf.Variable 'var:0' shape=() dtype=float32_ref> \n",
      " Tensor(\"add:0\", shape=(), dtype=float32_ref)\n",
      "True\n",
      "True\n",
      "1.0\n",
      "None\n",
      "3.0\n"
     ]
    }
   ],
   "source": [
    "tf.reset_default_graph()\n",
    "a = tf.get_variable(name='var', shape=[], initializer=tf.zeros_initializer)\n",
    "b = tf.assign_add(a, tf.convert_to_tensor(1.0), name='add')  # output Tensor\n",
    "print(a, '\\n', b)\n",
    "\n",
    "out = tf.get_default_graph().get_tensor_by_name('add:0')\n",
    "update = tf.get_default_graph().get_operation_by_name('add')\n",
    "print(out is b)          # `out` is same with `b`, Tensor\n",
    "print(update is b.op)    # `update` is same with `b.op`, Operation\n",
    "\n",
    "with tf.Session() as sess:\n",
    "    a.initializer.run()  # 0\n",
    "    print(b.eval())      # 1\n",
    "    \n",
    "    print(update.run())  # 2, operation return None\n",
    "    print(out.eval())    # 3"
   ]
  },
  {
   "cell_type": "markdown",
   "metadata": {},
   "source": [
    "Tensor names must be of the form **`<op_name>:<output_index>`**.\n",
    "```python\n",
    "tf.reset_default_graph()\n",
    "ax = tf.constant(1.0, name='ax')\n",
    "bx = ax + 2\n",
    "cx = tf.identity(bx, name='cx')\n",
    "print(ax)\n",
    "print(bx)\n",
    "print(cx)\n",
    "graph = tf.get_default_graph()\n",
    "\n",
    "# ValueError: The name 'cx' refers to an Operation, not a Tensor.\n",
    "# Tensor names must be of the form \"<op_name>:<output_index>\".\n",
    "# v1 = graph.get_tensor_by_name('cx')\n",
    "\n",
    "v = graph.get_tensor_by_name('cx:0')\n",
    "print(v)\n",
    "print(v is cx)\n",
    "\n",
    "############# output\n",
    "# Tensor(\"ax:0\", shape=(), dtype=float32)\n",
    "# Tensor(\"add:0\", shape=(), dtype=float32)\n",
    "# Tensor(\"cx:0\", shape=(), dtype=float32)\n",
    "# Tensor(\"cx:0\", shape=(), dtype=float32)\n",
    "# True\n",
    "```"
   ]
  },
  {
   "cell_type": "markdown",
   "metadata": {},
   "source": [
    "## 6. getting variable by name  \n",
    "[TensorFlow: getting variable by name\n",
    "](https://stackoverflow.com/a/39027917/8037585)  \n",
    "[TensorFlow: getting variable by name\n",
    "](https://stackoverflow.com/a/35686754/8037585)"
   ]
  },
  {
   "cell_type": "markdown",
   "metadata": {},
   "source": [
    "The `get_variable()` function creates a new variable or returns one **created** earlier by `get_variable()`. It **won't** return a variable created using `tf.Variable()`.  \n",
    "Here's a quick example:"
   ]
  },
  {
   "cell_type": "code",
   "execution_count": 36,
   "metadata": {},
   "outputs": [
    {
     "data": {
      "text/plain": [
       "True"
      ]
     },
     "execution_count": 36,
     "metadata": {},
     "output_type": "execute_result"
    }
   ],
   "source": [
    "tf.reset_default_graph()\n",
    "with tf.variable_scope(\"foo\"):\n",
    "    bar1 = tf.get_variable(\"bar\", (2,3)) # create\n",
    "\n",
    "with tf.variable_scope(\"foo\", reuse=True):\n",
    "    bar2 = tf.get_variable(\"bar\")  # reuse\n",
    "\n",
    "\n",
    "with tf.variable_scope(\"\", reuse=True): # root variable scope\n",
    "    bar3 = tf.get_variable(\"foo/bar\") # reuse (equivalent to the above)\n",
    "\n",
    "(bar1 is bar2) and (bar2 is bar3)"
   ]
  },
  {
   "cell_type": "markdown",
   "metadata": {},
   "source": [
    "- `tf.global_variables()` and filter"
   ]
  },
  {
   "cell_type": "code",
   "execution_count": 39,
   "metadata": {},
   "outputs": [
    {
     "data": {
      "text/plain": [
       "True"
      ]
     },
     "execution_count": 39,
     "metadata": {},
     "output_type": "execute_result"
    }
   ],
   "source": [
    "tf.reset_default_graph()\n",
    "bar1 = tf.get_variable(name='bar', initializer=1.0)\n",
    "\n",
    "# using `var.op.name` == \"variable_name\"\n",
    "bar2 = [var for var in tf.global_variables() if var.op.name==\"bar\"][0]\n",
    "# `var.name` == \"variable_name:0\", same with the above\n",
    "bar3 = [var for var in tf.global_variables() if var.name==\"bar:0\"][0]\n",
    "\n",
    "(bar1 is bar2) and (bar2 is bar3)"
   ]
  },
  {
   "cell_type": "markdown",
   "metadata": {},
   "source": [
    "- `tf.get_collection()` and scope"
   ]
  },
  {
   "cell_type": "code",
   "execution_count": 40,
   "metadata": {},
   "outputs": [
    {
     "data": {
      "text/plain": [
       "True"
      ]
     },
     "execution_count": 40,
     "metadata": {},
     "output_type": "execute_result"
    }
   ],
   "source": [
    "bar4 = tf.get_collection(tf.GraphKeys.GLOBAL_VARIABLES, scope=\"bar\")[0]\n",
    "# same \n",
    "bar5 = tf.get_collection(tf.GraphKeys.GLOBAL_VARIABLES, scope=\"bar:0\")[0]\n",
    "\n",
    "(bar1 is bar4) and (bar4 is bar5)"
   ]
  },
  {
   "cell_type": "markdown",
   "metadata": {},
   "source": [
    "- `get_tensor_by_name()`"
   ]
  },
  {
   "cell_type": "code",
   "execution_count": 45,
   "metadata": {},
   "outputs": [
    {
     "data": {
      "text/plain": [
       "False"
      ]
     },
     "execution_count": 45,
     "metadata": {},
     "output_type": "execute_result"
    }
   ],
   "source": [
    "graph = tf.get_default_graph()\n",
    "bar6 = graph.get_tensor_by_name('bar:0')\n",
    "\n",
    "bar1 is bar6"
   ]
  },
  {
   "cell_type": "markdown",
   "metadata": {},
   "source": [
    "Here `bar6` is `tf.Tensor`, but bar1 equal bar6 in value."
   ]
  },
  {
   "cell_type": "code",
   "execution_count": 46,
   "metadata": {},
   "outputs": [
    {
     "data": {
      "text/plain": [
       "(<tf.Variable 'bar:0' shape=() dtype=float32_ref>,\n",
       " <tf.Tensor 'bar:0' shape=() dtype=float32_ref>)"
      ]
     },
     "execution_count": 46,
     "metadata": {},
     "output_type": "execute_result"
    }
   ],
   "source": [
    "bar1, bar6"
   ]
  },
  {
   "cell_type": "markdown",
   "metadata": {},
   "source": [
    "## 7. `variable.name` and `variable.op.name`?  \n",
    "[What's difference between `variable.name` and `variable.op.name`?\n",
    "](https://stackoverflow.com/a/34729874/8037585)  \n",
    "\n",
    "Right now the [`Variable.name`][1] property maps to **the name of the mutable [`Tensor`][2]** __in which that variable is stored__ (principally because a `Variable` can be used wherever a `Tensor` is expected). Tensor names are generated from the name of the operation that produces them (a `Variable` op in this case) and the index of the output to which that tensor corresponds.\n",
    "\n",
    "The `op` property of a `Tensor` or a `Variable` is a pointer to the node in the TensorFlow graph that produces that tensor,\n",
    "\n",
    "[1]: https://www.tensorflow.org/versions/master/api_docs/python/state_ops.html#Variable.name\n",
    "[2]: https://www.tensorflow.org/versions/master/api_docs/python/framework.html#Tensor"
   ]
  },
  {
   "cell_type": "code",
   "execution_count": null,
   "metadata": {},
   "outputs": [],
   "source": []
  }
 ],
 "metadata": {
  "kernelspec": {
   "display_name": "Python 3",
   "language": "python",
   "name": "python3"
  },
  "language_info": {
   "codemirror_mode": {
    "name": "ipython",
    "version": 3
   },
   "file_extension": ".py",
   "mimetype": "text/x-python",
   "name": "python",
   "nbconvert_exporter": "python",
   "pygments_lexer": "ipython3",
   "version": "3.6.6"
  }
 },
 "nbformat": 4,
 "nbformat_minor": 2
}
